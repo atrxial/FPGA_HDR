{
 "cells": [
  {
   "cell_type": "code",
   "execution_count": 42,
   "metadata": {},
   "outputs": [],
   "source": [
    "# Cell 1: Import necessary libraries\n",
    "import numpy as np\n",
    "from scipy.ndimage import zoom\n"
   ]
  },
  {
   "cell_type": "code",
   "execution_count": 43,
   "metadata": {},
   "outputs": [],
   "source": [
    "# Cell 2: Define the size of the LUT\n",
    "LUT_SIZE = 256\n",
    "\n",
    "# Define the size of the small and large LUTs\n",
    "SMALL_LUT_SIZE = 128\n",
    "LARGE_LUT_SIZE = 256"
   ]
  },
  {
   "cell_type": "code",
   "execution_count": 44,
   "metadata": {},
   "outputs": [],
   "source": [
    "# Create an identity LUT\n",
    "lut = np.zeros((LUT_SIZE, LUT_SIZE, LUT_SIZE, 3))\n",
    "\n",
    "# Fill the LUT with the identity mapping\n",
    "for r in range(LUT_SIZE):\n",
    "    for g in range(LUT_SIZE):\n",
    "        for b in range(LUT_SIZE):\n",
    "            lut[r, g, b] = [r/LUT_SIZE, g/LUT_SIZE, b/LUT_SIZE]"
   ]
  },
  {
   "cell_type": "code",
   "execution_count": 45,
   "metadata": {},
   "outputs": [],
   "source": [
    "def interpolate_lut_trilinear(color, lut, LUT_SIZE):\n",
    "    \n",
    "    # Get color components\n",
    "    r = color[0] / (2**(8-LUT_SIZE))\n",
    "    g = color[1] / (2**(8-LUT_SIZE))\n",
    "    b = color[2] / (2**(8-LUT_SIZE))\n",
    "\n",
    "    # Convert the inputs to integer indices\n",
    "    r1 = np.floor(r).astype(int)\n",
    "    r2 = min(r1 + 1, lut.shape[0]-1)\n",
    "    g1 = np.floor(g).astype(int)\n",
    "    g2 = min(g1 + 1, lut.shape[1]-1)\n",
    "    b1 = np.floor(b).astype(int)\n",
    "    b2 = min(b1 + 1, lut.shape[2]-1)\n",
    "\n",
    "    # Get the 8 corner values from the LUT\n",
    "    f1 = lut[r1, g1, b1]\n",
    "    f2 = lut[r2, g1, b1]\n",
    "    f3 = lut[r1, g2, b1]\n",
    "    f4 = lut[r2, g2, b1]\n",
    "    f5 = lut[r1, g1, b2]\n",
    "    f6 = lut[r2, g1, b2]\n",
    "    f7 = lut[r1, g2, b2]\n",
    "    f8 = lut[r2, g2, b2]\n",
    "\n",
    "    # Perform trilinear interpolation for each color component\n",
    "    interpolated_color = np.empty(3)\n",
    "    for i in range(3):\n",
    "        interpolated_color[i] = f1[i] + \\\n",
    "                                (r - r1) * (f2[i] - f1[i]) + \\\n",
    "                                (g - g1) * (f3[i] - f1[i]) + \\\n",
    "                                (b - b1) * (f5[i] - f1[i]) + \\\n",
    "                                (r - r1) * (g - g1) * (f4[i] - f1[i]) + \\\n",
    "                                (r - r1) * (b - b1) * (f6[i] - f1[i]) + \\\n",
    "                                (g - g1) * (b - b1) * (f7[i] - f1[i]) + \\\n",
    "                                (r - r1) * (g - g1) * (b - b1) * (f8[i] - f1[i])\n",
    "    \n",
    "    return interpolated_color"
   ]
  },
  {
   "cell_type": "code",
   "execution_count": 46,
   "metadata": {},
   "outputs": [
    {
     "name": "stdout",
     "output_type": "stream",
     "text": [
      "ADDR_WIDTH=3, Average error=0.012955729166666667\n",
      "ADDR_WIDTH=4, Average error=0.028151041666666668\n",
      "ADDR_WIDTH=5, Average error=0.0601171875\n",
      "ADDR_WIDTH=6, Average error=0.11848958333333333\n",
      "ADDR_WIDTH=7, Average error=0.24888020833333332\n"
     ]
    }
   ],
   "source": [
    "# Cell 5: Test the function with different LUT resolutions\n",
    "for ADDR_WIDTH in range(3, 8):\n",
    "    # Reduce the LUT\n",
    "    reduced_lut = lut[::2**ADDR_WIDTH, ::2**ADDR_WIDTH, ::2**ADDR_WIDTH, :]\n",
    "\n",
    "    # Generate random points in the original LUT\n",
    "    points = np.random.uniform(0, lut.shape[0]-1, size=(100, 3))\n",
    "\n",
    "    # Calculate the interpolation error\n",
    "    errors = []\n",
    "    for point in points:\n",
    "        x, y, z = np.floor(point).astype(int)\n",
    "        # Scale down the coordinates for the reduced LUT\n",
    "        x2, y2, z2 = (x // 2**ADDR_WIDTH, y // 2**ADDR_WIDTH, z // 2**ADDR_WIDTH)\n",
    "        # Ensure the coordinates are within the bounds of the reduced_lut\n",
    "        x2 = min(max(x2, 0), reduced_lut.shape[0]-1)\n",
    "        y2 = min(max(y2, 0), reduced_lut.shape[1]-1)\n",
    "        z2 = min(max(z2, 0), reduced_lut.shape[2]-1)\n",
    "        interpolated_value = interpolate_lut(reduced_lut, x2, y2, z2)\n",
    "        true_value = lut[x, y, z]\n",
    "        error = np.abs(interpolated_value - true_value)\n",
    "        errors.append(error)\n",
    "\n",
    "    print(f\"ADDR_WIDTH={ADDR_WIDTH}, Average error={np.mean(errors)}\")"
   ]
  },
  {
   "cell_type": "code",
   "execution_count": 47,
   "metadata": {},
   "outputs": [
    {
     "name": "stdout",
     "output_type": "stream",
     "text": [
      "ADDR_WIDTH=3, Average error per component=[0.12716631 0.12716631 0.12716631]\n",
      "ADDR_WIDTH=4, Average error per component=[0.23155353 0.23155353 0.23155353]\n",
      "ADDR_WIDTH=5, Average error per component=[0.39615052 0.39615052 0.39615052]\n",
      "ADDR_WIDTH=6, Average error per component=[0.64365267 0.64365267 0.64365267]\n",
      "ADDR_WIDTH=7, Average error per component=[0.99218696 0.99218696 0.99218696]\n"
     ]
    },
    {
     "ename": "",
     "evalue": "",
     "output_type": "error",
     "traceback": [
      "\u001b[1;31mThe Kernel crashed while executing code in the current cell or a previous cell. \n",
      "\u001b[1;31mPlease review the code in the cell(s) to identify a possible cause of the failure. \n",
      "\u001b[1;31mClick <a href='https://aka.ms/vscodeJupyterKernelCrash'>here</a> for more info. \n",
      "\u001b[1;31mView Jupyter <a href='command:jupyter.viewOutput'>log</a> for further details."
     ]
    }
   ],
   "source": [
    "# Load the existing LUT\n",
    "small_lut = np.loadtxt(f\"reinhard_lut_int_{SMALL_LUT_SIZE}.txt\", dtype=int)\n",
    "small_lut = small_lut.reshape((SMALL_LUT_SIZE, SMALL_LUT_SIZE, SMALL_LUT_SIZE, 3)) / 255\n",
    "\n",
    "# Test the function with different LUT resolutions\n",
    "for ADDR_WIDTH in range(3, 8):\n",
    "    # Reduce the LUT\n",
    "    reduced_lut = small_lut[::2**ADDR_WIDTH, ::2**ADDR_WIDTH, ::2**ADDR_WIDTH, :]\n",
    "\n",
    "    # Interpolate the reduced LUT to the original resolution\n",
    "    interpolated_lut = np.zeros_like(small_lut)\n",
    "    for x in range(small_lut.shape[0]):\n",
    "        for y in range(small_lut.shape[1]):\n",
    "            for z in range(small_lut.shape[2]):\n",
    "                x2, y2, z2 = (x // 2**ADDR_WIDTH, y // 2**ADDR_WIDTH, z // 2**ADDR_WIDTH)\n",
    "                x2 = min(max(x2, 0), reduced_lut.shape[0]-1)\n",
    "                y2 = min(max(y2, 0), reduced_lut.shape[1]-1)\n",
    "                z2 = min(max(z2, 0), reduced_lut.shape[2]-1)\n",
    "                interpolated_lut[x, y, z] = interpolate_lut(reduced_lut, x2, y2, z2)\n",
    "\n",
    "    # Calculate the relative error for each color component\n",
    "    epsilon = 1e-7  # small constant to avoid division by zero\n",
    "    error = np.abs((interpolated_lut - small_lut) / (small_lut + epsilon))\n",
    "\n",
    "    # Calculate the average error for each color component\n",
    "    avg_errors = np.mean(error, axis=(0, 1, 2))\n",
    "    print(f\"ADDR_WIDTH={ADDR_WIDTH}, Average error per component={avg_errors}\")"
   ]
  }
 ],
 "metadata": {
  "kernelspec": {
   "display_name": "Python 3",
   "language": "python",
   "name": "python3"
  },
  "language_info": {
   "codemirror_mode": {
    "name": "ipython",
    "version": 3
   },
   "file_extension": ".py",
   "mimetype": "text/x-python",
   "name": "python",
   "nbconvert_exporter": "python",
   "pygments_lexer": "ipython3",
   "version": "3.12.1"
  }
 },
 "nbformat": 4,
 "nbformat_minor": 2
}
