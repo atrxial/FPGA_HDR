lut = np.array([[[[1, 2, 3], [4, 5, 6]], [[7, 8, 9], [10, 11, 12]]]])
r = 0.5
g = 0.5
b = 0.5
expected_output = np.array([5.5, 6.5, 7.5])
assert np.allclose(interpolate_lut(lut, r, g, b), expected_output)