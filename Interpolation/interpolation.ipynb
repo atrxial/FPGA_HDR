{
 "cells": [
  {
   "cell_type": "code",
   "execution_count": 21,
   "metadata": {},
   "outputs": [],
   "source": [
    "import numpy as np\n",
    "import math\n",
    "import random\n",
    "from tqdm import tqdm\n",
    "import itertools\n"
   ]
  },
  {
   "cell_type": "code",
   "execution_count": 30,
   "metadata": {},
   "outputs": [],
   "source": [
    "def interpolate_lut_trilinear(color, lut, LUT_SIZE):\n",
    "    # Get color components\n",
    "    r = color[0] / (2**(8-LUT_SIZE))\n",
    "    g = color[1] / (2**(8-LUT_SIZE))\n",
    "    b = color[2] / (2**(8-LUT_SIZE))\n",
    "\n",
    "    # Convert the inputs to integer indices\n",
    "    r1 = int(r)\n",
    "    r2 = min(r1 + 1, lut.shape[0]-1)\n",
    "    g1 = int(g)\n",
    "    g2 = min(g1 + 1, lut.shape[1]-1)\n",
    "    b1 = int(b)\n",
    "    b2 = min(b1 + 1, lut.shape[2]-1)\n",
    "\n",
    "    # Get the 8 corner values from the LUT\n",
    "    f1 = lut[r1, g1, b1]\n",
    "    f2 = lut[r2, g1, b1]\n",
    "    f3 = lut[r1, g2, b1]\n",
    "    f4 = lut[r2, g2, b1]\n",
    "    f5 = lut[r1, g1, b2]\n",
    "    f6 = lut[r2, g1, b2]\n",
    "    f7 = lut[r1, g2, b2]\n",
    "    f8 = lut[r2, g2, b2]\n",
    "\n",
    "    # Perform trilinear interpolation for each color component\n",
    "    interpolated_color = np.empty(3)\n",
    "    for i in range(3):\n",
    "        # Change the order of the color channels to BGR\n",
    "        interpolated_color[i] = f1[i] + \\\n",
    "                                            (r - r1) * (f2[i] - f1[i]) + \\\n",
    "                                            (g - g1) * (f3[i] - f1[i]) + \\\n",
    "                                            (b - b1) * (f5[i] - f1[i]) + \\\n",
    "                                            (r - r1) * (g - g1) * (f4[i] - f1[i]) + \\\n",
    "                                            (r - r1) * (b - b1) * (f6[i] - f1[i]) + \\\n",
    "                                            (g - g1) * (b - b1) * (f7[i] - f1[i]) + \\\n",
    "                                            (r - r1) * (g - g1) * (b - b1) * (f8[i] - f1[i])\n",
    "\n",
    "    # Scale the output color back to the original range\n",
    "    interpolated_color *= (2**(8-LUT_SIZE))\n",
    "\n",
    "    return interpolated_color"
   ]
  },
  {
   "cell_type": "code",
   "execution_count": 31,
   "metadata": {},
   "outputs": [],
   "source": [
    "from scipy.interpolate import RegularGridInterpolator\n",
    "\n",
    "def reference_interpolation_function(color, lut, LUT_SIZE):\n",
    "    # Create a grid of coordinates in the LUT\n",
    "    grid_coords = [np.arange(2**LUT_SIZE) for _ in range(3)]\n",
    "\n",
    "    # Create the interpolator function\n",
    "    interpolator = RegularGridInterpolator(grid_coords, lut)\n",
    "\n",
    "    # Normalize color\n",
    "    color = np.array(color) / (2**(8-LUT_SIZE))\n",
    "\n",
    "    # Interpolate\n",
    "    interpolated_color = interpolator(color)\n",
    "\n",
    "    # Scale the output color back to the original range\n",
    "    interpolated_color *= (2**(8-LUT_SIZE))\n",
    "\n",
    "    return interpolated_color"
   ]
  },
  {
   "cell_type": "code",
   "execution_count": 32,
   "metadata": {},
   "outputs": [],
   "source": [
    "def test_lut_interpolation(lut, LUT_SIZE):\n",
    "    # Initialize the total error and the number of tests\n",
    "    total_error = 0\n",
    "    num_tests = 0\n",
    "\n",
    "    # Generate random colors\n",
    "    random_colors = [np.random.randint(0, LUT_SIZE, size=3) for _ in range(100)]\n",
    "\n",
    "    # Generate boundary colors\n",
    "    boundary_colors = [np.array(color) for color in itertools.product([0, LUT_SIZE-1], repeat=3)]\n",
    "\n",
    "    # Test the function with the random colors\n",
    "    for color in tqdm(random_colors, desc=\"Testing random colors\"):\n",
    "        interpolated_color = interpolate_lut_trilinear(color, lut, LUT_SIZE)\n",
    "        expected_color = reference_interpolation_function(color, lut, LUT_SIZE)\n",
    "        error = np.abs(interpolated_color - expected_color).sum() / (expected_color.sum() + 1e-10)  # Add a small constant to avoid division by zero\n",
    "        total_error += error\n",
    "        num_tests += 1\n",
    "\n",
    "        # Check if the relative error is greater than 0.95\n",
    "        if error > 0.95:\n",
    "            print(f\"Expected color: {expected_color}, Obtained color: {interpolated_color}\")\n",
    "\n",
    "    # Test the function with boundary colors\n",
    "    for color in tqdm(boundary_colors, desc=\"Testing boundary colors\"):\n",
    "        interpolated_color = interpolate_lut_trilinear(color, lut, LUT_SIZE)\n",
    "        expected_color = reference_interpolation_function(color, lut, LUT_SIZE)\n",
    "        error = np.abs(interpolated_color - expected_color).sum() / (expected_color.sum() + 1e-10)  # Add a small constant to avoid division by zero\n",
    "        total_error += error\n",
    "        num_tests += 1\n",
    "\n",
    "        # Check if the relative error is greater than 0.95\n",
    "        if error > 0.95:\n",
    "            print(f\"Expected color: {expected_color}, Obtained color: {interpolated_color}\")\n",
    "\n",
    "    # Calculate and print the average relative error\n",
    "    average_error = total_error / num_tests\n",
    "    print(f\"Average relative error: {average_error}\")"
   ]
  },
  {
   "cell_type": "code",
   "execution_count": 33,
   "metadata": {},
   "outputs": [
    {
     "name": "stdout",
     "output_type": "stream",
     "text": [
      "\n",
      "Testing with LUT size: 6\n",
      "(64, 64, 64, 3)\n"
     ]
    },
    {
     "name": "stderr",
     "output_type": "stream",
     "text": [
      "Testing random colors:  44%|████▍     | 44/100 [00:00<00:00, 434.96it/s]"
     ]
    },
    {
     "name": "stdout",
     "output_type": "stream",
     "text": [
      "Expected color: [[ 8.  4. 12.]], Obtained color: [17.5 10.5 22.5]\n",
      "Expected color: [[ 4.  8. 12.]], Obtained color: [10.5 17.5 22.5]\n",
      "Expected color: [[ 4. 12. 12.]], Obtained color: [12.25 26.25 26.25]\n",
      "Expected color: [[12.  4.  8.]], Obtained color: [22.5 10.5 17.5]\n",
      "Expected color: [[12.  8.  4.]], Obtained color: [22.5 17.5 10.5]\n",
      "Expected color: [[ 4. 12. 12.]], Obtained color: [12.25 26.25 26.25]\n"
     ]
    },
    {
     "name": "stderr",
     "output_type": "stream",
     "text": [
      "Testing random colors:  92%|█████████▏| 92/100 [00:00<00:00, 460.94it/s]"
     ]
    },
    {
     "name": "stdout",
     "output_type": "stream",
     "text": [
      "Expected color: [[12. 12.  8.]], Obtained color: [31.5 31.5 24.5]"
     ]
    },
    {
     "name": "stderr",
     "output_type": "stream",
     "text": [
      "Testing random colors: 100%|██████████| 100/100 [00:00<00:00, 453.10it/s]\n"
     ]
    },
    {
     "name": "stdout",
     "output_type": "stream",
     "text": [
      "\n"
     ]
    },
    {
     "name": "stderr",
     "output_type": "stream",
     "text": [
      "Testing boundary colors: 100%|██████████| 8/8 [00:00<00:00, 449.69it/s]\n"
     ]
    },
    {
     "name": "stdout",
     "output_type": "stream",
     "text": [
      "Average relative error: 0.3029701362154231\n",
      "\n",
      "Testing with imported LUT from file: ReinhardLUTs/inverse_reinhard_lut_int_128.txt\n",
      "(128, 128, 128, 3)\n"
     ]
    },
    {
     "name": "stderr",
     "output_type": "stream",
     "text": [
      "Testing random colors: 100%|██████████| 100/100 [00:01<00:00, 76.35it/s]\n",
      "Testing boundary colors: 100%|██████████| 8/8 [00:00<00:00, 77.24it/s]\n"
     ]
    },
    {
     "name": "stdout",
     "output_type": "stream",
     "text": [
      "Average relative error: 0.036179377996809314\n",
      "\n",
      "Testing with imported LUT from file: ReinhardLUTs/reinhard_lut_int_128.txt\n",
      "(128, 128, 128, 3)\n"
     ]
    },
    {
     "name": "stderr",
     "output_type": "stream",
     "text": [
      "Testing random colors: 100%|██████████| 100/100 [00:01<00:00, 71.14it/s]\n",
      "Testing boundary colors: 100%|██████████| 8/8 [00:00<00:00, 71.14it/s]"
     ]
    },
    {
     "name": "stdout",
     "output_type": "stream",
     "text": [
      "Average relative error: 0.07784241221661183\n"
     ]
    },
    {
     "name": "stderr",
     "output_type": "stream",
     "text": [
      "\n"
     ]
    },
    {
     "ename": "",
     "evalue": "",
     "output_type": "error",
     "traceback": [
      "\u001b[1;31mThe Kernel crashed while executing code in the current cell or a previous cell. \n",
      "\u001b[1;31mPlease review the code in the cell(s) to identify a possible cause of the failure. \n",
      "\u001b[1;31mClick <a href='https://aka.ms/vscodeJupyterKernelCrash'>here</a> for more info. \n",
      "\u001b[1;31mView Jupyter <a href='command:jupyter.viewOutput'>log</a> for further details."
     ]
    }
   ],
   "source": [
    "# Generate a set of random colors\n",
    "random_colors = [(random.randint(0, 255), random.randint(0, 255), random.randint(0, 255)) for _ in range(1000)]\n",
    "\n",
    "# Define boundary colors\n",
    "boundary_colors = [(0, 0, 0), (255, 255, 255), (0, 255, 0), (255, 0, 255), (255, 255, 0)]\n",
    "\n",
    "# Test with LUTs of different sizes\n",
    "for LUT_SIZE in range(6, 7):\n",
    "    # Create a test LUT\n",
    "    lut = np.zeros((2**LUT_SIZE, 2**LUT_SIZE, 2**LUT_SIZE, 3), dtype=np.uint8)\n",
    "    for i in range(2**LUT_SIZE):\n",
    "        for j in range(2**LUT_SIZE):\n",
    "            for k in range(2**LUT_SIZE):\n",
    "                lut[i, j, k, 0] = i * (256 // 2**LUT_SIZE)\n",
    "                lut[i, j, k, 1] = j * (256 // 2**LUT_SIZE)\n",
    "                lut[i, j, k, 2] = k * (256 // 2**LUT_SIZE)\n",
    "\n",
    "    print(f\"\\nTesting with LUT size: {LUT_SIZE}\")\n",
    "    print(lut.shape)\n",
    "    test_lut_interpolation(lut, LUT_SIZE)\n",
    "\n",
    "\n",
    "# List of LUT file paths to test\n",
    "path_root = \"C:/Users/thoma/Documents/MODAL/LUTCreator/\"\n",
    "lut_file_paths = [\"ReinhardLUTs/inverse_reinhard_lut_int_128.txt\",\n",
    "                  \"ReinhardLUTs/reinhard_lut_int_128.txt\"]\n",
    "LUT_SIZE_IMPORT = 7  # Replace with your actual LUT size\n",
    "\n",
    "# Test with imported LUTs\n",
    "for lut_file_path in lut_file_paths:\n",
    "    # Load the existing LUT\n",
    "    lut = np.loadtxt(path_root + lut_file_path, dtype=int)\n",
    "    lut = lut.reshape((2**LUT_SIZE_IMPORT, 2**LUT_SIZE_IMPORT, 2**LUT_SIZE_IMPORT, 3))\n",
    "\n",
    "    # Permute the color channels from BGR to RGB\n",
    "    lut = lut[..., [1, 0, 2]]\n",
    "\n",
    "    print(f\"\\nTesting with imported LUT from file: {lut_file_path}\")\n",
    "    print(lut.shape)\n",
    "    test_lut_interpolation(lut, LUT_SIZE_IMPORT)"
   ]
  }
 ],
 "metadata": {
  "kernelspec": {
   "display_name": "Python 3",
   "language": "python",
   "name": "python3"
  },
  "language_info": {
   "codemirror_mode": {
    "name": "ipython",
    "version": 3
   },
   "file_extension": ".py",
   "mimetype": "text/x-python",
   "name": "python",
   "nbconvert_exporter": "python",
   "pygments_lexer": "ipython3",
   "version": "3.12.1"
  }
 },
 "nbformat": 4,
 "nbformat_minor": 2
}
